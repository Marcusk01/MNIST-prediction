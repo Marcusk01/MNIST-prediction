{
  "nbformat": 4,
  "nbformat_minor": 0,
  "metadata": {
    "colab": {
      "name": "Mnist fashion AI",
      "provenance": [],
      "collapsed_sections": []
    },
    "kernelspec": {
      "name": "python3",
      "display_name": "Python 3"
    },
    "language_info": {
      "name": "python"
    }
  },
  "cells": [
    {
      "cell_type": "code",
      "metadata": {
        "id": "tJmPHKyGxGXo",
        "colab": {
          "base_uri": "https://localhost:8080/"
        },
        "outputId": "0eea4587-228d-47cb-e3c2-7a025ac0eb92"
      },
      "source": [
        "import pandas as pd\n",
        "import numpy as np\n",
        "import os\n",
        "import shutil\n",
        "import glob\n",
        "home_dir = os.path.expanduser(\"~\")\n",
        "content_dir = '/content'\n",
        "print('Home path is'+home_dir)"
      ],
      "execution_count": 2,
      "outputs": [
        {
          "output_type": "stream",
          "name": "stdout",
          "text": [
            "Home path is/root\n"
          ]
        }
      ]
    },
    {
      "cell_type": "markdown",
      "metadata": {
        "id": "AGymkxgJ1oUf"
      },
      "source": [
        "Data preparation"
      ]
    },
    {
      "cell_type": "code",
      "metadata": {
        "colab": {
          "base_uri": "https://localhost:8080/"
        },
        "id": "XiJlAdnO2isG",
        "outputId": "bb18c3cb-ba55-4e37-9afe-cf7334b45bb9"
      },
      "source": [
        "# Kaggle API token\n",
        "\n",
        "! pip install -q kaggle\n",
        "from google.colab import files\n",
        "if os.path.isfile('./kaggle.json') == False:\n",
        "    files.upload()\n",
        "print('Kaggle credential uploaded')"
      ],
      "execution_count": 7,
      "outputs": [
        {
          "output_type": "stream",
          "name": "stdout",
          "text": [
            "Kaggle credential uploaded\n"
          ]
        }
      ]
    },
    {
      "cell_type": "code",
      "metadata": {
        "id": "XoqHZTWlPlwo",
        "colab": {
          "base_uri": "https://localhost:8080/"
        },
        "outputId": "3838d1fa-1f78-4bc6-f378-a8afa6c62e20"
      },
      "source": [
        "data_path = content_dir +'/data'\n",
        "print('Data is stored at: '+data_path)\n",
        "os.makedirs(content_dir+'/.kaggle',exist_ok = True)\n",
        "! cp kaggle.json ~/.kaggle/\n",
        "! chmod 600 ~/.kaggle/kaggle.json\n",
        "os.system('kaggle competitions download -c mais202fall2021 -p '+data_path)\n",
        "fname_zip = glob.glob(data_path+'/'+'*.zip'); print(fname_zip)\n",
        "for i in range(len(fname_zip)):\n",
        "    shutil.unpack_archive(fname_zip[i], './data')"
      ],
      "execution_count": 9,
      "outputs": [
        {
          "output_type": "stream",
          "name": "stdout",
          "text": [
            "Data is stored at: /content/data\n",
            "['/content/data/test_images.npy.zip', '/content/data/train_images.npy.zip']\n"
          ]
        }
      ]
    },
    {
      "cell_type": "code",
      "metadata": {
        "id": "GtR49fSf3gO0"
      },
      "source": [
        "# show_image function \n",
        "\n",
        "import matplotlib.pyplot as plt\n",
        "\n",
        "def show_image(arr):\n",
        "    two_d = (np.reshape(arr, (28, 28)) * 255).astype(np.uint8)\n",
        "    plt.imshow(two_d,cmap=\"Greys\")\n",
        "    plt.show()\n"
      ],
      "execution_count": 30,
      "outputs": []
    },
    {
      "cell_type": "code",
      "metadata": {
        "id": "VcXNnZ3A4VJD",
        "colab": {
          "base_uri": "https://localhost:8080/",
          "height": 302
        },
        "outputId": "853bb066-af1e-4e43-8737-273635007156"
      },
      "source": [
        "x_train = np.load(data_path+'/train_images.npy')\n",
        "y_train = pd.read_csv(data_path+'/train_labels.csv', index_col=0)\n",
        "y_train = pd.DataFrame(y_train).to_numpy()\n",
        "\n",
        "show_image(x_train[1])\n",
        "\n",
        "# print(y_train)\n",
        "print(x_train.shape)\n",
        "print(y_train.shape)"
      ],
      "execution_count": 31,
      "outputs": [
        {
          "output_type": "display_data",
          "data": {
            "image/png": "[encoded data removed]",
            "text/plain": [
              "<Figure size 432x288 with 1 Axes>"
            ]
          },
          "metadata": {
            "needs_background": "light"
          }
        },
        {
          "output_type": "stream",
          "name": "stdout",
          "text": [
            "(50000, 28, 28)\n",
            "(50000, 1)\n"
          ]
        }
      ]
    },
    {
      "cell_type": "markdown",
      "metadata": {
        "id": "m52Jn9PDLlXl"
      },
      "source": [
        "Approach 1"
      ]
    },
    {
      "cell_type": "code",
      "metadata": {
        "id": "c9rykABzLn6i"
      },
      "source": [
        "from tensorflow.keras.utils import to_categorical"
      ],
      "execution_count": 29,
      "outputs": []
    }
  ]
}