{
  "nbformat": 4,
  "nbformat_minor": 0,
  "metadata": {
    "colab": {
      "name": "Mnist_fashion_AI.ipynb",
      "provenance": [],
      "collapsed_sections": []
    },
    "kernelspec": {
      "display_name": "Python 3 (ipykernel)",
      "language": "python",
      "name": "python3"
    },
    "language_info": {
      "codemirror_mode": {
        "name": "ipython",
        "version": 3
      },
      "file_extension": ".py",
      "mimetype": "text/x-python",
      "name": "python",
      "nbconvert_exporter": "python",
      "pygments_lexer": "ipython3",
      "version": "3.8.2"
    },
    "accelerator": "GPU"
  },
  "cells": [
    {
      "cell_type": "code",
      "metadata": {
        "id": "D6P_uwXAz9dN",
        "colab": {
          "base_uri": "https://localhost:8080/"
        },
        "outputId": "68c43dc6-0380-41c6-f550-3bbec03ea0e3"
      },
      "source": [
        "# Set environment\n",
        "# colab_env = 1 --> Google colab\n",
        "# colab_env = 0 --> Local\n",
        "print('Set the env for python. Enter \"1\" for Google-colab, \"0\" for local')\n",
        "# colab_env = input()"
      ],
      "execution_count": 1,
      "outputs": [
        {
          "output_type": "stream",
          "name": "stdout",
          "text": [
            "Set the env for python. Enter \"1\" for Google-colab, \"0\" for local\n"
          ]
        }
      ]
    },
    {
      "cell_type": "code",
      "metadata": {
        "colab": {
          "base_uri": "https://localhost:8080/"
        },
        "id": "tJmPHKyGxGXo",
        "outputId": "c2c12941-1720-4e14-95d0-29f5515ad710"
      },
      "source": [
        "colab_env=1\n",
        "if colab_env ==1:\n",
        "    print('Environment is set for Colab.')\n",
        "    import pandas as pd\n",
        "    import numpy as np\n",
        "    import tensorflow as tf\n",
        "    import os\n",
        "    import shutil\n",
        "    import glob\n",
        "    home_dir = os.path.expanduser(\"~\")\n",
        "    content_dir = '/content'\n",
        "    print('Home path is: '+home_dir)\n",
        "    print('Home path is: '+home_dir)    \n",
        "    print('Content path is: '+content_dir)\n",
        "    print(\"Num GPUs Available: \", len(tf.config.list_physical_devices('GPU')))"
      ],
      "execution_count": 2,
      "outputs": [
        {
          "output_type": "stream",
          "name": "stdout",
          "text": [
            "Environment is set for Colab.\n",
            "Home path is: /root\n",
            "Home path is: /root\n",
            "Content path is: /content\n",
            "Num GPUs Available:  1\n"
          ]
        }
      ]
    },
    {
      "cell_type": "markdown",
      "metadata": {
        "id": "AGymkxgJ1oUf"
      },
      "source": [
        "Data preparation"
      ]
    },
    {
      "cell_type": "code",
      "metadata": {
        "colab": {
          "base_uri": "https://localhost:8080/"
        },
        "id": "XiJlAdnO2isG",
        "scrolled": true,
        "outputId": "cdec3730-5b91-4ba7-d2e5-f0090d35aada"
      },
      "source": [
        "# Kaggle API token\n",
        "! pip install -q kaggle\n",
        "if colab_env ==1:\n",
        "    from google.colab import files\n",
        "    if os.path.isfile('./kaggle.json') == False:\n",
        "        files.upload()\n",
        "    print('Kaggle credential uploaded')"
      ],
      "execution_count": 5,
      "outputs": [
        {
          "output_type": "stream",
          "name": "stdout",
          "text": [
            "Kaggle credential uploaded\n"
          ]
        }
      ]
    },
    {
      "cell_type": "code",
      "metadata": {
        "colab": {
          "base_uri": "https://localhost:8080/"
        },
        "id": "XoqHZTWlPlwo",
        "outputId": "cbefe1f1-f187-494c-a8a4-ccf46381d604"
      },
      "source": [
        "data_path = content_dir +'/data'\n",
        "print('Data is stored at: '+data_path)\n",
        "os.makedirs(content_dir+'/.kaggle',exist_ok = True)\n",
        "os.system('cp kaggle.json '+str(home_dir) +'/.kaggle/')\n",
        "os.system('chmod 600 '+str(home_dir)+'/.kaggle/kaggle.json')\n",
        "os.system('kaggle competitions download -c mais202fall2021 -p '+data_path)\n",
        "fname_zip = glob.glob(data_path+'/'+'*.zip'); print(fname_zip)\n",
        "for i in range(len(fname_zip)):\n",
        "    shutil.unpack_archive(fname_zip[i], './data')"
      ],
      "execution_count": 6,
      "outputs": [
        {
          "output_type": "stream",
          "name": "stdout",
          "text": [
            "Data is stored at: /content/data\n",
            "['/content/data/test_images.npy.zip', '/content/data/train_images.npy.zip']\n"
          ]
        }
      ]
    },
    {
      "cell_type": "code",
      "metadata": {
        "id": "GtR49fSf3gO0"
      },
      "source": [
        "# show_image function \n",
        "\n",
        "import matplotlib.pyplot as plt\n",
        "\n",
        "def show_image(arr):\n",
        "    two_d = (np.reshape(arr, (28, 28)) * 255).astype(np.uint8)\n",
        "    plt.imshow(two_d,cmap=\"Greys\")\n",
        "    plt.show()\n"
      ],
      "execution_count": 7,
      "outputs": []
    },
    {
      "cell_type": "code",
      "metadata": {
        "colab": {
          "base_uri": "https://localhost:8080/",
          "height": 319
        },
        "id": "VcXNnZ3A4VJD",
        "outputId": "a810e9ad-a764-4055-807a-f16173ba81f9"
      },
      "source": [
        "x_train = np.load(data_path+'/train_images.npy')/255\n",
        "x_test = np.load(data_path+'/test_images.npy')/255\n",
        "\n",
        "y_train = pd.read_csv(data_path+'/train_labels.csv', index_col=0)\n",
        "y_train = pd.DataFrame(y_train).to_numpy()\n",
        "y_train_arr = np.array(y_train.flatten())\n",
        "\n",
        "show_image(x_train[1])\n",
        "\n",
        "y_test_arr = np.array(pd.read_csv(data_path+'/sample_submission.csv')['label'])\n",
        "\n",
        "# print(y_train)\n",
        "print('Training dataset (X) shape: ',end = '')\n",
        "print(x_train.shape)\n",
        "print('Test dataset (X) shape: ',end = '')\n",
        "print(x_test.shape)\n",
        "print('# of training labels (Y) shape: ',end = '')\n",
        "print(y_train.shape)"
      ],
      "execution_count": 8,
      "outputs": [
        {
          "output_type": "display_data",
          "data": {
            "image/png": "[encoded data removed]",
            "text/plain": [
              "<Figure size 432x288 with 1 Axes>"
            ]
          },
          "metadata": {
            "needs_background": "light"
          }
        },
        {
          "output_type": "stream",
          "name": "stdout",
          "text": [
            "Training dataset (X) shape: (50000, 28, 28)\n",
            "Test dataset (X) shape: (20000, 28, 28)\n",
            "# of training labels (Y) shape: (50000, 1)\n"
          ]
        }
      ]
    },
    {
      "cell_type": "markdown",
      "metadata": {
        "id": "m52Jn9PDLlXl"
      },
      "source": [
        "## Keras version 1"
      ]
    },
    {
      "cell_type": "code",
      "metadata": {
        "id": "c9rykABzLn6i",
        "colab": {
          "base_uri": "https://localhost:8080/"
        },
        "outputId": "09859638-0db1-4cb2-8bc5-1ad4a7c4c4cd"
      },
      "source": [
        "from tensorflow.keras.utils import to_categorical\n",
        "from tensorflow.keras.models import Sequential\n",
        "from tensorflow.keras.optimizers import Adadelta, SGD\n",
        "from keras.layers import (Input, Dense, Dropout, Conv2D, MaxPooling2D, Activation, BatchNormalization, Flatten)\n",
        "from keras.models import Model\n",
        "from tensorflow.keras.optimizers import Adam\n",
        "from keras import regularizers\n",
        "from keras.callbacks import ReduceLROnPlateau, EarlyStopping\n",
        "\n",
        "import keras\n",
        "import tensorflow as tf\n",
        "sess = tf.compat.v1.Session(config=tf.compat.v1.ConfigProto(log_device_placement=True))\n",
        "keras.backend.set_session(sess)"
      ],
      "execution_count": 9,
      "outputs": [
        {
          "output_type": "stream",
          "name": "stdout",
          "text": [
            "Device mapping:\n",
            "/job:localhost/replica:0/task:0/device:GPU:0 -> device: 0, name: Tesla K80, pci bus id: 0000:00:04.0, compute capability: 3.7\n",
            "\n"
          ]
        }
      ]
    },
    {
      "cell_type": "markdown",
      "metadata": {
        "id": "K-WJzd_ZJPIm"
      },
      "source": [
        "### Process data\n",
        "Provided data has both images for training and testing, but only the training set has the label. This means we need to set a validation set, and cross-validation is possibly needed.\n",
        "\n",
        "#### 1. Create a validation set"
      ]
    },
    {
      "cell_type": "code",
      "metadata": {
        "id": "4EvQspn0X7aT"
      },
      "source": [
        "# set validation ratio\n",
        "rto_cval = 0.2\n",
        "# split the training data by randomly selecting images\n",
        "def split_train_val(x_train,y_train,rto_cval = 0.2, ran_seeds = 0):\n",
        "    # set numpy random seeds first, different seeds can be used for cross-validation \n",
        "    np.random.seed(ran_seeds)\n",
        "    len_train = len(x_test) # length of orig. train\n",
        "    val_count = int(rto_cval * len_train) # length of val\n",
        "    ind_orig = np.linspace(0,len_train-1,len_train) # index for the input dataset\n",
        "    # generate random index\n",
        "    ind_val = np.random.randint(0, high=len_train-1, size=val_count, dtype=int)\n",
        "    ind_new_train = np.array(list(set(ind_orig) - set(ind_val)),dtype=int)\n",
        "    x_train_new = x_train[ind_new_train]\n",
        "    y_train_new = y_train[ind_new_train]\n",
        "    x_val = x_train[ind_val]\n",
        "    y_val = y_train[ind_val]\n",
        "    print('Random selected validation set has a length of '+ str(len(ind_val)))\n",
        "    print('New training set has a length of '+ str(len(ind_new_train)))\n",
        "    return x_train_new, y_train_new, x_val, y_val\n",
        "\n"
      ],
      "execution_count": 10,
      "outputs": []
    },
    {
      "cell_type": "markdown",
      "metadata": {
        "id": "CkE7h-asJPIo"
      },
      "source": [
        "##### *Data enhancement (adding noise)* ####"
      ]
    },
    {
      "cell_type": "code",
      "metadata": {
        "id": "Myh2Yi6HJPIp"
      },
      "source": [
        "def adding_rand_noise(dataset,mean=0.0,sigma=0.1,ioption=0):\n",
        "    if np.mod(ioption,2)==0:\n",
        "        noise = np.random.randn(*dataset.shape)*sigma + mean # Gaussian noise\n",
        "    else:\n",
        "        noise = np.random.rand(*dataset.shape)*sigma + mean # Uniform noise\n",
        "    return noise+dataset"
      ],
      "execution_count": 11,
      "outputs": []
    },
    {
      "cell_type": "markdown",
      "metadata": {
        "id": "XvSSuIJnJPIq"
      },
      "source": [
        "### Define a CNN model with Keras "
      ]
    },
    {
      "cell_type": "code",
      "metadata": {
        "colab": {
          "base_uri": "https://localhost:8080/"
        },
        "id": "aQzPiJYpJPIr",
        "outputId": "37cac4e6-65bb-46bf-bca1-de116efacaf0"
      },
      "source": [
        "# define cnn model\n",
        "def define_model():\n",
        "    model = Sequential()\n",
        "    # 1st conv layer\n",
        "    model.add(Conv2D(16, (3, 3), activation='relu', kernel_initializer='he_uniform', input_shape=(28, 28, 1)))\n",
        "    model.add(BatchNormalization())\n",
        "    model.add(MaxPooling2D((2, 2)))\n",
        "    model.add(Dropout(0.3))\n",
        "\n",
        "    # 2nd conv layer\n",
        "    model.add(Conv2D(32, (3, 2), activation='relu', kernel_initializer='he_uniform'))\n",
        "    model.add(BatchNormalization())\n",
        "    model.add(Conv2D(64, (2, 3), activation='relu', kernel_initializer='he_uniform'))\n",
        "    model.add(BatchNormalization())\n",
        "    model.add(Dropout(0.2))\n",
        "    model.add(MaxPooling2D((2, 2)))\n",
        "    # FC\n",
        "    model.add(Flatten())\n",
        "    model.add(Dense(400, activation='relu'))\n",
        "    model.add(Dropout(0.5))\n",
        "    model.add(Dense(35, activation='log_softmax'))\n",
        "    model.add(Dropout(0.5))\n",
        "    model.add(Dense(10, activation='softmax'))\n",
        "    # compile model\n",
        "    opt = Adam(learning_rate=0.0025, decay=1e-5)\n",
        "    # opt = Adadelta(learning_rate=1, decay=2e-1)\n",
        "    model.compile(optimizer=opt, loss='categorical_crossentropy', metrics=['accuracy'])#\n",
        "    model.summary()\n",
        "    return model\n",
        "\n",
        "model = define_model()"
      ],
      "execution_count": 18,
      "outputs": [
        {
          "output_type": "stream",
          "name": "stdout",
          "text": [
            "Model: \"sequential_4\"\n",
            "_________________________________________________________________\n",
            " Layer (type)                Output Shape              Param #   \n",
            "=================================================================\n",
            " conv2d_12 (Conv2D)          (None, 26, 26, 16)        160       \n",
            "                                                                 \n",
            " batch_normalization_12 (Bat  (None, 26, 26, 16)       64        \n",
            " chNormalization)                                                \n",
            "                                                                 \n",
            " max_pooling2d_8 (MaxPooling  (None, 13, 13, 16)       0         \n",
            " 2D)                                                             \n",
            "                                                                 \n",
            " dropout_16 (Dropout)        (None, 13, 13, 16)        0         \n",
            "                                                                 \n",
            " conv2d_13 (Conv2D)          (None, 11, 12, 32)        3104      \n",
            "                                                                 \n",
            " batch_normalization_13 (Bat  (None, 11, 12, 32)       128       \n",
            " chNormalization)                                                \n",
            "                                                                 \n",
            " conv2d_14 (Conv2D)          (None, 10, 10, 64)        12352     \n",
            "                                                                 \n",
            " batch_normalization_14 (Bat  (None, 10, 10, 64)       256       \n",
            " chNormalization)                                                \n",
            "                                                                 \n",
            " dropout_17 (Dropout)        (None, 10, 10, 64)        0         \n",
            "                                                                 \n",
            " max_pooling2d_9 (MaxPooling  (None, 5, 5, 64)         0         \n",
            " 2D)                                                             \n",
            "                                                                 \n",
            " flatten_4 (Flatten)         (None, 1600)              0         \n",
            "                                                                 \n",
            " dense_12 (Dense)            (None, 400)               640400    \n",
            "                                                                 \n",
            " dropout_18 (Dropout)        (None, 400)               0         \n",
            "                                                                 \n",
            " dense_13 (Dense)            (None, 35)                14035     \n",
            "                                                                 \n",
            " dropout_19 (Dropout)        (None, 35)                0         \n",
            "                                                                 \n",
            " dense_14 (Dense)            (None, 10)                360       \n",
            "                                                                 \n",
            "=================================================================\n",
            "Total params: 670,859\n",
            "Trainable params: 670,635\n",
            "Non-trainable params: 224\n",
            "_________________________________________________________________\n"
          ]
        }
      ]
    },
    {
      "cell_type": "code",
      "metadata": {
        "scrolled": true,
        "id": "GTa87HpmJPIs"
      },
      "source": [
        "def y_to_label(y_test):\n",
        "    plain_pred = list()\n",
        "    for i in range(len(predictions)):\n",
        "        plain_pred.append(list(predictions[i]).index(max(predictions[i])))\n",
        "    new_array = pd.DataFrame(plain_pred)\n",
        "    new_array.columns=['label']\n",
        "    y_true = pd.read_csv(data_path+'/sample_submission.csv')\n",
        "    icount = 0\n",
        "    for i in range(len(y_true)):\n",
        "        if new_array['label'][i]== y_true['label'][i]:\n",
        "            icount+=1\n",
        "    score = icount/len(y_true)\n",
        "    return new_array['label']\n",
        "    \n",
        "\n"
      ],
      "execution_count": 15,
      "outputs": []
    },
    {
      "cell_type": "markdown",
      "metadata": {
        "id": "tI57noXObqOI"
      },
      "source": [
        "#### 2. Train the network\n",
        "\n",
        "I am considering the following ideas to train the model:\n",
        "\n",
        "* Large batch size for some general features (with smaller training set)\n",
        "* Small batch size (w/ or w/o noises) with a slightly higher epoch number for the local optima\n",
        "* large batch size to end a round of training\n",
        "\n",
        "*Noises:\n",
        "\n",
        "I consider both Gaussian noise and uniform noises. It depends on the round of training (odd or even number).\n",
        "\n",
        "*Cross-validation\n",
        "\n",
        "Randomly selected validation set is used for training the network (the seed for numpy also varies each time).\n",
        "\n"
      ]
    },
    {
      "cell_type": "code",
      "metadata": {
        "scrolled": true,
        "colab": {
          "base_uri": "https://localhost:8080/"
        },
        "id": "GLJXipPgJPIt",
        "outputId": "9ebac338-6e1f-4d96-d740-65934af04a5e"
      },
      "source": [
        "x_train_new, y_train_new, x_val, y_val = split_train_val(x_train,y_train,rto_cval=0.2, ran_seeds=0)\n",
        "print(x_train_new.shape)\n",
        "# train the network\n",
        "\n",
        "for i in range(1):\n",
        "    print(\" === Training model..., round # \"+str(i))\n",
        "    x_train_new, y_train_new, x_val, y_val = split_train_val(x_train,y_train,rto_cval=0.2, ran_seeds=0)\n",
        "    H = model.fit(x=x_train_new, y=to_categorical(y_train_new,10),\n",
        "        validation_data=(x_val, to_categorical(y_val,10)),\n",
        "        batch_size=200, epochs=1)\n",
        "\n",
        "    x_train_new, y_train_new, x_val, y_val = split_train_val(x_train,y_train,rto_cval=0.2, ran_seeds=1+i)\n",
        "    x_train_noised = adding_rand_noise(x_train_new,0.5,i)\n",
        "    H = model.fit(x=x_train_noised, y=to_categorical(y_train_new,10),\n",
        "        validation_data=(x_val, to_categorical(y_val,10)),\n",
        "        batch_size=50, epochs=3)\n",
        "    \n",
        "    x_train_new, y_train_new, x_val, y_val = split_train_val(x_train,y_train,rto_cval=0.2, ran_seeds=2+i)\n",
        "    H = model.fit(x=x_train_new, y=to_categorical(y_train_new,10),\n",
        "        validation_data=(x_val, to_categorical(y_val,10)),\n",
        "        batch_size=5, epochs=1)\n",
        "\n",
        "    x_train_new, y_train_new, x_val, y_val = split_train_val(x_train,y_train,rto_cval=0.2, ran_seeds=3+i)\n",
        "    x_train_noised = adding_rand_noise(x_train_new,0.1,i)\n",
        "    H = model.fit(x=x_train_noised, y=to_categorical(y_train_new,10),\n",
        "        validation_data=(x_val, to_categorical(y_val,10)),\n",
        "        batch_size=25, epochs=2)\n",
        "\n",
        "\n",
        "    x_train_new, y_train_new, x_val, y_val = split_train_val(x_train,y_train,rto_cval=0.2, ran_seeds=4+i)\n",
        "    H = model.fit(x=x_train_new, y=to_categorical(y_train_new,10),\n",
        "        validation_data=(x_val, to_categorical(y_val,10)),\n",
        "        batch_size=15, epochs=3)\n",
        "    \n",
        "    x_train_new, y_train_new, x_val, y_val = split_train_val(x_train,y_train,rto_cval=0.2, ran_seeds=7+i)\n",
        "    H = model.fit(x=x_train_new, y=to_categorical(y_train_new,10),\n",
        "        validation_data=(x_val, to_categorical(y_val,10)),\n",
        "        batch_size=250, epochs=1)\n",
        "    \n"
      ],
      "execution_count": 21,
      "outputs": [
        {
          "output_type": "stream",
          "name": "stdout",
          "text": [
            "Random selected validation set has a length of 4000\n",
            "New training set has a length of 16399\n",
            "(16399, 28, 28)\n",
            " === Training model..., round # 0\n",
            "Random selected validation set has a length of 4000\n",
            "New training set has a length of 16399\n",
            "82/82 [==============================] - 1s 18ms/step - loss: 0.8955 - accuracy: 0.6514 - val_loss: 0.8792 - val_accuracy: 0.7005\n",
            "Random selected validation set has a length of 4000\n",
            "New training set has a length of 16376\n",
            "Epoch 1/3\n",
            "328/328 [==============================] - 3s 9ms/step - loss: 0.9682 - accuracy: 0.6252 - val_loss: 1.3697 - val_accuracy: 0.5842\n",
            "Epoch 2/3\n",
            "328/328 [==============================] - 3s 9ms/step - loss: 0.9315 - accuracy: 0.6492 - val_loss: 1.5852 - val_accuracy: 0.4095\n",
            "Epoch 3/3\n",
            "328/328 [==============================] - 3s 9ms/step - loss: 0.9116 - accuracy: 0.6601 - val_loss: 1.3328 - val_accuracy: 0.5400\n",
            "Random selected validation set has a length of 4000\n",
            "New training set has a length of 16367\n",
            "3274/3274 [==============================] - 28s 9ms/step - loss: 1.5609 - accuracy: 0.4957 - val_loss: 0.8997 - val_accuracy: 0.6848\n",
            "Random selected validation set has a length of 4000\n",
            "New training set has a length of 16388\n",
            "Epoch 1/2\n",
            "656/656 [==============================] - 6s 9ms/step - loss: 0.9652 - accuracy: 0.6350 - val_loss: 0.7114 - val_accuracy: 0.7293\n",
            "Epoch 2/2\n",
            "656/656 [==============================] - 6s 9ms/step - loss: 0.8623 - accuracy: 0.6709 - val_loss: 0.6328 - val_accuracy: 0.7778\n",
            "Random selected validation set has a length of 4000\n",
            "New training set has a length of 16388\n",
            "Epoch 1/3\n",
            "1093/1093 [==============================] - 10s 9ms/step - loss: 0.9221 - accuracy: 0.6654 - val_loss: 0.6141 - val_accuracy: 0.7825\n",
            "Epoch 2/3\n",
            "1093/1093 [==============================] - 9s 9ms/step - loss: 0.9257 - accuracy: 0.6668 - val_loss: 0.6404 - val_accuracy: 0.7720\n",
            "Epoch 3/3\n",
            "1093/1093 [==============================] - 9s 9ms/step - loss: 0.8959 - accuracy: 0.6820 - val_loss: 0.6282 - val_accuracy: 0.7830\n",
            "Random selected validation set has a length of 4000\n",
            "New training set has a length of 16401\n",
            "66/66 [==============================] - 1s 21ms/step - loss: 0.8024 - accuracy: 0.7081 - val_loss: 0.5083 - val_accuracy: 0.8198\n"
          ]
        }
      ]
    },
    {
      "cell_type": "code",
      "metadata": {
        "id": "scLLeTvlJPIu",
        "colab": {
          "base_uri": "https://localhost:8080/",
          "height": 344
        },
        "outputId": "65bc514c-19e6-4214-b03e-c102bd900f78"
      },
      "source": [
        "y_test=model.predict(x_test)\n",
        "predictions = y_test\n",
        "plain_pred = list()\n",
        "print(predictions[:5])\n",
        "\n",
        "df_test = pd.read_csv(data_path+'/sample_submission.csv')\n",
        "# fname_str=data_path+'/predictions_'+str(dt_string)+'.csv'\n",
        "# df_test.to_csv('fname_str',index=False)\n",
        "\n",
        "\n",
        "for i in range(len(predictions)):\n",
        "    plain_pred.append(list(predictions[i]).index(max(predictions[i])))\n",
        "\n",
        "print(plain_pred[:5])\n",
        "import datetime\n",
        "now = datetime.datetime.now()\n",
        "dt_string =now.strftime(\"%Y%d%m_%H%M%S\")\n",
        "fname_str=data_path+'/predictions_'+str(dt_string)+'.csv'\n",
        "print(fname_str)\n",
        "new_array = pd.DataFrame(plain_pred)\n",
        "new_array.columns=['label']\n",
        "df_test['label'] = new_array['label']\n",
        "print(df_test[:5])\n",
        "df_test.to_csv(fname_str,index=False)\n",
        "from google.colab import files\n",
        "\n",
        "files.download(fname_str)\n"
      ],
      "execution_count": 22,
      "outputs": [
        {
          "output_type": "stream",
          "name": "stdout",
          "text": [
            "[[2.4326579e-23 4.4324955e-25 7.4221595e-24 3.0495639e-21 1.6299877e-20\n",
            "  1.1909233e-14 1.0944258e-21 4.1165993e-08 4.1428352e-20 1.0000000e+00]\n",
            " [2.3676010e-23 1.6706793e-28 9.4159107e-23 3.4151342e-25 6.0131997e-22\n",
            "  1.0000000e+00 4.1543264e-19 3.0882762e-15 3.3504664e-21 1.7854023e-14]\n",
            " [7.3922501e-04 4.6619025e-05 3.1621903e-01 8.9087657e-04 4.8526725e-01\n",
            "  1.5041925e-05 1.9600400e-01 8.0409645e-06 8.0863596e-04 1.3029108e-06]\n",
            " [5.6917139e-27 1.0000000e+00 8.7981744e-32 9.0252501e-25 2.3908123e-27\n",
            "  0.0000000e+00 8.4279404e-25 0.0000000e+00 2.3475547e-38 0.0000000e+00]\n",
            " [3.5365574e-21 5.7787949e-32 4.7744716e-20 4.8116255e-27 2.5155148e-23\n",
            "  1.3004414e-21 2.0370611e-18 6.1809509e-30 1.0000000e+00 1.3366441e-28]]\n",
            "[9, 5, 4, 1, 8]\n",
            "/content/data/predictions_20212411_001026.csv\n",
            "   ID  label\n",
            "0   0      9\n",
            "1   1      5\n",
            "2   2      4\n",
            "3   3      1\n",
            "4   4      8\n"
          ]
        },
        {
          "output_type": "display_data",
          "data": {
            "application/javascript": [
              "\n",
              "    async function download(id, filename, size) {\n",
              "      if (!google.colab.kernel.accessAllowed) {\n",
              "        return;\n",
              "      }\n",
              "      const div = document.createElement('div');\n",
              "      const label = document.createElement('label');\n",
              "      label.textContent = `Downloading \"${filename}\": `;\n",
              "      div.appendChild(label);\n",
              "      const progress = document.createElement('progress');\n",
              "      progress.max = size;\n",
              "      div.appendChild(progress);\n",
              "      document.body.appendChild(div);\n",
              "\n",
              "      const buffers = [];\n",
              "      let downloaded = 0;\n",
              "\n",
              "      const channel = await google.colab.kernel.comms.open(id);\n",
              "      // Send a message to notify the kernel that we're ready.\n",
              "      channel.send({})\n",
              "\n",
              "      for await (const message of channel.messages) {\n",
              "        // Send a message to notify the kernel that we're ready.\n",
              "        channel.send({})\n",
              "        if (message.buffers) {\n",
              "          for (const buffer of message.buffers) {\n",
              "            buffers.push(buffer);\n",
              "            downloaded += buffer.byteLength;\n",
              "            progress.value = downloaded;\n",
              "          }\n",
              "        }\n",
              "      }\n",
              "      const blob = new Blob(buffers, {type: 'application/binary'});\n",
              "      const a = document.createElement('a');\n",
              "      a.href = window.URL.createObjectURL(blob);\n",
              "      a.download = filename;\n",
              "      div.appendChild(a);\n",
              "      a.click();\n",
              "      div.remove();\n",
              "    }\n",
              "  "
            ],
            "text/plain": [
              "<IPython.core.display.Javascript object>"
            ]
          },
          "metadata": {}
        },
        {
          "output_type": "display_data",
          "data": {
            "application/javascript": [
              "download(\"download_506c7199-2a04-46ca-9abc-bbaed48822b6\", \"predictions_20212411_001026.csv\", 148899)"
            ],
            "text/plain": [
              "<IPython.core.display.Javascript object>"
            ]
          },
          "metadata": {}
        }
      ]
    }
  ]
}