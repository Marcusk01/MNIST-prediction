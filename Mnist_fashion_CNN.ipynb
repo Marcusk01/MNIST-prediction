{
  "nbformat": 4,
  "nbformat_minor": 0,
  "metadata": {
    "colab": {
      "name": "Mnist_fashion_CNN.ipynb",
      "provenance": [],
      "collapsed_sections": []
    },
    "kernelspec": {
      "display_name": "Python 3 (ipykernel)",
      "language": "python",
      "name": "python3"
    },
    "language_info": {
      "codemirror_mode": {
        "name": "ipython",
        "version": 3
      },
      "file_extension": ".py",
      "mimetype": "text/x-python",
      "name": "python",
      "nbconvert_exporter": "python",
      "pygments_lexer": "ipython3",
      "version": "3.8.2"
    },
    "accelerator": "GPU"
  },
  "cells": [
    {
      "cell_type": "markdown",
      "metadata": {
        "id": "NUu5AGVrYkZI"
      },
      "source": [
        "## Simple CNN model for MNIST fashion categorization"
      ]
    },
    {
      "cell_type": "code",
      "metadata": {
        "colab": {
          "base_uri": "https://localhost:8080/"
        },
        "id": "tJmPHKyGxGXo",
        "outputId": "a5ab549c-f0ed-4f22-e51a-861fa828465b"
      },
      "source": [
        "import pandas as pd\n",
        "import numpy as np\n",
        "import tensorflow as tf\n",
        "import os\n",
        "import shutil\n",
        "import glob\n",
        "print(\"Num GPUs Available: \", len(tf.config.list_physical_devices('GPU')))"
      ],
      "execution_count": 1,
      "outputs": [
        {
          "output_type": "stream",
          "name": "stdout",
          "text": [
            "Num GPUs Available:  1\n"
          ]
        }
      ]
    },
    {
      "cell_type": "code",
      "metadata": {
        "colab": {
          "resources": {
            "http://localhost:8080/nbextensions/google.colab/files.js": {
              "data": "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",
              "ok": true,
              "headers": [
                [
                  "content-type",
                  "application/javascript"
                ]
              ],
              "status": 200,
              "status_text": "OK"
            }
          },
          "base_uri": "https://localhost:8080/",
          "height": 95
        },
        "id": "XiJlAdnO2isG",
        "scrolled": true,
        "outputId": "8f80b6f6-50a5-4a29-db54-a577c9b1f10a"
      },
      "source": [
        "# Kaggle API token to retrieve data\n",
        "! pip install -q kaggle\n",
        "from google.colab import files\n",
        "if os.path.isfile('./kaggle.json') == False:\n",
        "    files.upload()\n",
        "print('Kaggle credential uploaded')"
      ],
      "execution_count": 2,
      "outputs": [
        {
          "output_type": "display_data",
          "data": {
            "text/html": [
              "\n",
              "     <input type=\"file\" id=\"files-1c50b4a0-824b-4f87-b177-c1a4b1802ae5\" name=\"files[]\" multiple disabled\n",
              "        style=\"border:none\" />\n",
              "     <output id=\"result-1c50b4a0-824b-4f87-b177-c1a4b1802ae5\">\n",
              "      Upload widget is only available when the cell has been executed in the\n",
              "      current browser session. Please rerun this cell to enable.\n",
              "      </output>\n",
              "      <script src=\"/nbextensions/google.colab/files.js\"></script> "
            ],
            "text/plain": [
              "<IPython.core.display.HTML object>"
            ]
          },
          "metadata": {}
        },
        {
          "output_type": "stream",
          "name": "stdout",
          "text": [
            "Saving kaggle.json to kaggle.json\n",
            "Kaggle credential uploaded\n"
          ]
        }
      ]
    },
    {
      "cell_type": "code",
      "metadata": {
        "colab": {
          "base_uri": "https://localhost:8080/"
        },
        "id": "XoqHZTWlPlwo",
        "outputId": "2b7cc3ac-633f-41eb-8789-07349c6f3249"
      },
      "source": [
        "! mkdir ~/.kaggle\n",
        "! cp kaggle.json ~/.kaggle/\n",
        "! chmod 600 ~/.kaggle/kaggle.json\n",
        "! kaggle competitions download mais202fall2021 -p /content/data/\n",
        "! cd /content/data/\n",
        "! unzip -d /content/data/ /content/data/test_images.npy\n",
        "! unzip -d /content/data/ /content/data/train_images.npy"
      ],
      "execution_count": 3,
      "outputs": [
        {
          "output_type": "stream",
          "name": "stdout",
          "text": [
            "Warning: Looks like you're using an outdated API Version, please consider updating (server 1.5.12 / client 1.5.4)\n",
            "Downloading test_images.npy.zip to /content/data\n",
            " 53% 11.0M/20.7M [00:00<00:00, 114MB/s]\n",
            "100% 20.7M/20.7M [00:00<00:00, 97.0MB/s]\n",
            "Downloading train_images.npy.zip to /content/data\n",
            " 79% 41.0M/51.7M [00:00<00:00, 71.5MB/s]\n",
            "100% 51.7M/51.7M [00:00<00:00, 105MB/s] \n",
            "Downloading sample_submission.csv to /content/data\n",
            "  0% 0.00/165k [00:00<?, ?B/s]\n",
            "100% 165k/165k [00:00<00:00, 54.3MB/s]\n",
            "Downloading label_int_to_str_mapping.csv to /content/data\n",
            "  0% 0.00/127 [00:00<?, ?B/s]\n",
            "100% 127/127 [00:00<00:00, 127kB/s]\n",
            "Downloading train_labels.csv to /content/data\n",
            "  0% 0.00/429k [00:00<?, ?B/s]\n",
            "100% 429k/429k [00:00<00:00, 60.4MB/s]\n",
            "Archive:  /content/data/test_images.npy.zip\n",
            "  inflating: /content/data/test_images.npy  \n",
            "Archive:  /content/data/train_images.npy.zip\n",
            "  inflating: /content/data/train_images.npy  \n"
          ]
        }
      ]
    },
    {
      "cell_type": "code",
      "metadata": {
        "id": "GtR49fSf3gO0"
      },
      "source": [
        "# show_image function \n",
        "import matplotlib.pyplot as plt\n",
        "\n",
        "def show_image(arr):\n",
        "    two_d = (np.reshape(arr, (28, 28)) * 255).astype(np.uint8)\n",
        "    plt.imshow(two_d,cmap=\"Greys\")\n",
        "    plt.show()"
      ],
      "execution_count": 4,
      "outputs": []
    },
    {
      "cell_type": "code",
      "metadata": {
        "id": "VcXNnZ3A4VJD",
        "colab": {
          "base_uri": "https://localhost:8080/",
          "height": 265
        },
        "outputId": "5574c29a-d19d-4a84-acdd-b49f3664c89b"
      },
      "source": [
        "# load data and check dimensions\n",
        "X_train = np.load('/content/data/train_images.npy')/255\n",
        "X_test = np.load('/content/data/test_images.npy')/255\n",
        "y_train = np.array(pd.read_csv('/content/data/train_labels.csv', index_col=0)).flatten()\n",
        "show_image(X_test[0])\n",
        "# print(y_test[0])\n",
        "# print('Training dataset (X) shape: ',end = '')\n",
        "# print(X_train.shape)\n",
        "# print('Test dataset (X) shape: ',end = '')\n",
        "# print(X_test.shape)\n",
        "# print('Training dataset (y) shape: ',end = '')\n",
        "# print(y_train.shape)\n",
        "# print('Test dataset (y) shape: ',end = '')\n",
        "# print(y_test.shape)"
      ],
      "execution_count": 31,
      "outputs": [
        {
          "output_type": "display_data",
          "data": {
            "image/png": "[encoded data removed]",
            "text/plain": [
              "<Figure size 432x288 with 1 Axes>"
            ]
          },
          "metadata": {
            "needs_background": "light"
          }
        }
      ]
    },
    {
      "cell_type": "markdown",
      "metadata": {
        "id": "m52Jn9PDLlXl"
      },
      "source": [
        ""
      ]
    },
    {
      "cell_type": "code",
      "metadata": {
        "id": "c9rykABzLn6i",
        "colab": {
          "base_uri": "https://localhost:8080/"
        },
        "outputId": "b60d35d4-1408-4975-d870-7482d965f827"
      },
      "source": [
        "import skimage\n",
        "\n",
        "from tensorflow.keras.utils import to_categorical\n",
        "from tensorflow.keras.models import Sequential\n",
        "from tensorflow.keras.optimizers import Adadelta, SGD\n",
        "from keras.layers import (Input, Dense, Dropout, Conv2D, MaxPooling2D, Activation, BatchNormalization, Flatten)\n",
        "from keras.models import Model\n",
        "from tensorflow.keras.optimizers import Adam\n",
        "from keras import regularizers\n",
        "from keras.callbacks import ReduceLROnPlateau, EarlyStopping\n",
        "\n",
        "import keras.backend as K\n",
        "sess = tf.compat.v1.Session(config=tf.compat.v1.ConfigProto(log_device_placement=True))\n",
        "K.set_session(sess)"
      ],
      "execution_count": 6,
      "outputs": [
        {
          "output_type": "stream",
          "name": "stdout",
          "text": [
            "Device mapping:\n",
            "/job:localhost/replica:0/task:0/device:GPU:0 -> device: 0, name: Tesla K80, pci bus id: 0000:00:04.0, compute capability: 3.7\n",
            "\n"
          ]
        }
      ]
    },
    {
      "cell_type": "code",
      "metadata": {
        "id": "TmR7VZu8XP8I"
      },
      "source": [
        "#Data preprocessing\n",
        "t_count = 45000\n",
        "\n",
        "X_val = X_train[t_count:]\n",
        "X_train = X_train[:t_count]\n",
        "X_train = X_train.astype('float32') / 255.0\n",
        "X_val = X_val.astype('float32') / 255.0\n",
        "\n",
        "# for i in range(len(X_train)):\n",
        "#   X_train[i] = skimage.util.random_noise(X_train[i], mode='gaussian')\n",
        "\n",
        "y_val = y_train[t_count:]\n",
        "y_train = y_train[:t_count]\n",
        "y_train = to_categorical(y_train, 10)\n",
        "y_val = to_categorical(y_val, 10)\n",
        "\n",
        "X_train = np.reshape(X_train, (X_train.shape[0], X_train.shape[1], X_train.shape[2], 1))\n",
        "X_val = np.reshape(X_val, (X_val.shape[0], X_val.shape[1], X_val.shape[2], 1))"
      ],
      "execution_count": 7,
      "outputs": []
    },
    {
      "cell_type": "code",
      "metadata": {
        "id": "FgjwTr20akLC"
      },
      "source": [
        "IMAGE_HEIGHT, IMAGE_WIDTH, NUM_CHANNELS, NUM_CLASSES = 28, 28, 1, 10"
      ],
      "execution_count": 9,
      "outputs": []
    },
    {
      "cell_type": "code",
      "metadata": {
        "id": "IbOy9vbua0fE"
      },
      "source": [
        "# training and evaluation parameters\n",
        "def train_evaluate(model, X_train, y_train, X_val, y_val, \n",
        "                            num_epochs=11, batch_size=28):\n",
        "    callbacks_list_default = [\n",
        "        ReduceLROnPlateau(monitor='val_loss',factor=0.2,patience=3),\n",
        "        EarlyStopping(monitor='val_acc',patience=6)]\n",
        "\n",
        "    history = model.fit(X_train, y_train, epochs=num_epochs,\n",
        "                        batch_size = batch_size, validation_data = (X_val, y_val))\n",
        "\n",
        "    print('Training data:', flush=True)\n",
        "    loss, acc = model.evaluate(X_train, y_train, verbose=1)\n",
        "    print(\"  Training : loss %.3f - acc %.3f\" % (loss, acc))\n",
        "    \n",
        "    print('Validation data:', flush=True)\n",
        "    loss, acc = model.evaluate(X_val, y_val, verbose=1)\n",
        "    print(\"  Validation: loss %.3f - acc %.3f\" % (loss, acc))"
      ],
      "execution_count": 10,
      "outputs": []
    },
    {
      "cell_type": "code",
      "metadata": {
        "id": "NG3WCA7TbB6M"
      },
      "source": [
        "# ML model setup/parameters\n",
        "def build_model():\n",
        "    K.clear_session()\n",
        "    lr=0.0001\n",
        "    inputs = Input(shape=(IMAGE_HEIGHT, IMAGE_WIDTH, NUM_CHANNELS))\n",
        "    \n",
        "    x = Conv2D(32, kernel_size=(3, 3), padding='same',activation='relu')(inputs)\n",
        "    x = MaxPooling2D(pool_size=(2,2))(x)\n",
        "    x = Dropout(0.12)(x)\n",
        "    \n",
        "    x = Conv2D(64, kernel_size=(3, 3), padding='same', activation='relu')(x)\n",
        "    x = MaxPooling2D(pool_size=(2,2))(x)\n",
        "    x = Dropout(0.2)(x)    \n",
        "\n",
        "    x = Conv2D(128, kernel_size=(3, 3), padding='same', activation='relu')(x)\n",
        "    x = MaxPooling2D(pool_size=(2,2))(x)\n",
        "    x = Dropout(0.28)(x)            \n",
        "\n",
        "    x = Flatten()(x)\n",
        "    x = Dense(1024, activation='relu')(x)\n",
        "    x = Dropout(0.4)(x)\n",
        "    x = Dense(512, activation='relu')(x)\n",
        "    x = Dropout(0.2)(x)\n",
        "    out = Dense(units=NUM_CLASSES, activation='softmax')(x)\n",
        "\n",
        "    model = Model(inputs=inputs, outputs=out)\n",
        "    adam = Adam(learning_rate=lr)\n",
        "    model.compile(optimizer=adam, loss='categorical_crossentropy', metrics=['accuracy'])\n",
        "    return model"
      ],
      "execution_count": 11,
      "outputs": []
    },
    {
      "cell_type": "code",
      "metadata": {
        "colab": {
          "base_uri": "https://localhost:8080/"
        },
        "id": "qtd45XXtcJ5I",
        "outputId": "3544871f-2e8f-47f5-db70-94c893ff6a68"
      },
      "source": [
        "model = build_model()\n",
        "print(model.summary())"
      ],
      "execution_count": 12,
      "outputs": [
        {
          "output_type": "stream",
          "name": "stdout",
          "text": [
            "Model: \"model\"\n",
            "_________________________________________________________________\n",
            " Layer (type)                Output Shape              Param #   \n",
            "=================================================================\n",
            " input_1 (InputLayer)        [(None, 28, 28, 1)]       0         \n",
            "                                                                 \n",
            " conv2d (Conv2D)             (None, 28, 28, 32)        320       \n",
            "                                                                 \n",
            " max_pooling2d (MaxPooling2D  (None, 14, 14, 32)       0         \n",
            " )                                                               \n",
            "                                                                 \n",
            " dropout (Dropout)           (None, 14, 14, 32)        0         \n",
            "                                                                 \n",
            " conv2d_1 (Conv2D)           (None, 14, 14, 64)        18496     \n",
            "                                                                 \n",
            " max_pooling2d_1 (MaxPooling  (None, 7, 7, 64)         0         \n",
            " 2D)                                                             \n",
            "                                                                 \n",
            " dropout_1 (Dropout)         (None, 7, 7, 64)          0         \n",
            "                                                                 \n",
            " conv2d_2 (Conv2D)           (None, 7, 7, 128)         73856     \n",
            "                                                                 \n",
            " max_pooling2d_2 (MaxPooling  (None, 3, 3, 128)        0         \n",
            " 2D)                                                             \n",
            "                                                                 \n",
            " dropout_2 (Dropout)         (None, 3, 3, 128)         0         \n",
            "                                                                 \n",
            " flatten (Flatten)           (None, 1152)              0         \n",
            "                                                                 \n",
            " dense (Dense)               (None, 1024)              1180672   \n",
            "                                                                 \n",
            " dropout_3 (Dropout)         (None, 1024)              0         \n",
            "                                                                 \n",
            " dense_1 (Dense)             (None, 512)               524800    \n",
            "                                                                 \n",
            " dropout_4 (Dropout)         (None, 512)               0         \n",
            "                                                                 \n",
            " dense_2 (Dense)             (None, 10)                5130      \n",
            "                                                                 \n",
            "=================================================================\n",
            "Total params: 1,803,274\n",
            "Trainable params: 1,803,274\n",
            "Non-trainable params: 0\n",
            "_________________________________________________________________\n",
            "None\n"
          ]
        }
      ]
    },
    {
      "cell_type": "code",
      "metadata": {
        "id": "n4U38AwKBlUL",
        "colab": {
          "base_uri": "https://localhost:8080/"
        },
        "outputId": "b97817ce-72b3-4114-8782-2383241836a8"
      },
      "source": [
        "# training\n",
        "train_evaluate(model, X_train, y_train, X_val, y_val, num_epochs=30, batch_size=32)"
      ],
      "execution_count": 13,
      "outputs": [
        {
          "output_type": "stream",
          "name": "stdout",
          "text": [
            "Epoch 1/30\n",
            "1407/1407 [==============================] - 29s 12ms/step - loss: 1.4209 - accuracy: 0.4523 - val_loss: 0.8908 - val_accuracy: 0.6574\n",
            "Epoch 2/30\n",
            "1407/1407 [==============================] - 16s 11ms/step - loss: 0.9046 - accuracy: 0.6558 - val_loss: 0.7930 - val_accuracy: 0.6972\n",
            "Epoch 3/30\n",
            "1407/1407 [==============================] - 15s 11ms/step - loss: 0.8282 - accuracy: 0.6835 - val_loss: 0.7521 - val_accuracy: 0.7058\n",
            "Epoch 4/30\n",
            "1407/1407 [==============================] - 16s 11ms/step - loss: 0.7906 - accuracy: 0.6989 - val_loss: 0.7358 - val_accuracy: 0.7160\n",
            "Epoch 5/30\n",
            "1407/1407 [==============================] - 15s 11ms/step - loss: 0.7562 - accuracy: 0.7089 - val_loss: 0.6947 - val_accuracy: 0.7276\n",
            "Epoch 6/30\n",
            "1407/1407 [==============================] - 15s 11ms/step - loss: 0.7340 - accuracy: 0.7195 - val_loss: 0.6787 - val_accuracy: 0.7384\n",
            "Epoch 7/30\n",
            "1407/1407 [==============================] - 15s 11ms/step - loss: 0.7093 - accuracy: 0.7298 - val_loss: 0.6634 - val_accuracy: 0.7402\n",
            "Epoch 8/30\n",
            "1407/1407 [==============================] - 15s 11ms/step - loss: 0.6910 - accuracy: 0.7352 - val_loss: 0.6357 - val_accuracy: 0.7552\n",
            "Epoch 9/30\n",
            "1407/1407 [==============================] - 16s 11ms/step - loss: 0.6709 - accuracy: 0.7448 - val_loss: 0.6219 - val_accuracy: 0.7608\n",
            "Epoch 10/30\n",
            "1407/1407 [==============================] - 15s 11ms/step - loss: 0.6614 - accuracy: 0.7476 - val_loss: 0.6278 - val_accuracy: 0.7570\n",
            "Epoch 11/30\n",
            "1407/1407 [==============================] - 15s 10ms/step - loss: 0.6439 - accuracy: 0.7555 - val_loss: 0.6013 - val_accuracy: 0.7676\n",
            "Epoch 12/30\n",
            "1407/1407 [==============================] - 15s 10ms/step - loss: 0.6303 - accuracy: 0.7626 - val_loss: 0.5807 - val_accuracy: 0.7784\n",
            "Epoch 13/30\n",
            "1407/1407 [==============================] - 15s 10ms/step - loss: 0.6182 - accuracy: 0.7653 - val_loss: 0.5810 - val_accuracy: 0.7758\n",
            "Epoch 14/30\n",
            "1407/1407 [==============================] - 15s 10ms/step - loss: 0.6047 - accuracy: 0.7708 - val_loss: 0.5624 - val_accuracy: 0.7784\n",
            "Epoch 15/30\n",
            "1407/1407 [==============================] - 15s 11ms/step - loss: 0.5939 - accuracy: 0.7732 - val_loss: 0.5451 - val_accuracy: 0.7868\n",
            "Epoch 16/30\n",
            "1407/1407 [==============================] - 14s 10ms/step - loss: 0.5842 - accuracy: 0.7779 - val_loss: 0.5419 - val_accuracy: 0.7960\n",
            "Epoch 17/30\n",
            "1407/1407 [==============================] - 16s 11ms/step - loss: 0.5745 - accuracy: 0.7826 - val_loss: 0.5417 - val_accuracy: 0.7868\n",
            "Epoch 18/30\n",
            "1407/1407 [==============================] - 15s 10ms/step - loss: 0.5654 - accuracy: 0.7855 - val_loss: 0.5176 - val_accuracy: 0.7994\n",
            "Epoch 19/30\n",
            "1407/1407 [==============================] - 15s 10ms/step - loss: 0.5589 - accuracy: 0.7882 - val_loss: 0.5229 - val_accuracy: 0.7992\n",
            "Epoch 20/30\n",
            "1407/1407 [==============================] - 15s 10ms/step - loss: 0.5499 - accuracy: 0.7898 - val_loss: 0.5305 - val_accuracy: 0.7950\n",
            "Epoch 21/30\n",
            "1407/1407 [==============================] - 15s 10ms/step - loss: 0.5440 - accuracy: 0.7938 - val_loss: 0.5018 - val_accuracy: 0.8056\n",
            "Epoch 22/30\n",
            "1407/1407 [==============================] - 15s 11ms/step - loss: 0.5338 - accuracy: 0.7959 - val_loss: 0.4963 - val_accuracy: 0.8088\n",
            "Epoch 23/30\n",
            "1407/1407 [==============================] - 15s 10ms/step - loss: 0.5263 - accuracy: 0.8001 - val_loss: 0.5059 - val_accuracy: 0.8078\n",
            "Epoch 24/30\n",
            "1407/1407 [==============================] - 15s 10ms/step - loss: 0.5226 - accuracy: 0.8000 - val_loss: 0.4886 - val_accuracy: 0.8132\n",
            "Epoch 25/30\n",
            "1407/1407 [==============================] - 15s 10ms/step - loss: 0.5157 - accuracy: 0.8024 - val_loss: 0.4802 - val_accuracy: 0.8178\n",
            "Epoch 26/30\n",
            "1407/1407 [==============================] - 15s 11ms/step - loss: 0.5112 - accuracy: 0.8031 - val_loss: 0.4761 - val_accuracy: 0.8194\n",
            "Epoch 27/30\n",
            "1407/1407 [==============================] - 15s 11ms/step - loss: 0.5065 - accuracy: 0.8079 - val_loss: 0.4749 - val_accuracy: 0.8194\n",
            "Epoch 28/30\n",
            "1407/1407 [==============================] - 15s 11ms/step - loss: 0.4975 - accuracy: 0.8102 - val_loss: 0.4678 - val_accuracy: 0.8234\n",
            "Epoch 29/30\n",
            "1407/1407 [==============================] - 15s 10ms/step - loss: 0.4924 - accuracy: 0.8122 - val_loss: 0.4621 - val_accuracy: 0.8242\n",
            "Epoch 30/30\n",
            "1407/1407 [==============================] - 15s 11ms/step - loss: 0.4897 - accuracy: 0.8111 - val_loss: 0.4611 - val_accuracy: 0.8238\n",
            "Training data:\n",
            "1407/1407 [==============================] - 8s 6ms/step - loss: 0.4132 - accuracy: 0.8443\n",
            "  Training : loss 0.413 - acc 0.844\n",
            "Validation data:\n",
            "157/157 [==============================] - 1s 5ms/step - loss: 0.4611 - accuracy: 0.8238\n",
            "  Validation: loss 0.461 - acc 0.824\n"
          ]
        }
      ]
    },
    {
      "cell_type": "code",
      "metadata": {
        "id": "HLwnFtb_Qhot"
      },
      "source": [
        "# prediction of slightly overfitted model\n",
        "result = model.predict(X_test)\n",
        "prediction = np.argmax(result, axis=1)"
      ],
      "execution_count": 33,
      "outputs": []
    }
  ]
}